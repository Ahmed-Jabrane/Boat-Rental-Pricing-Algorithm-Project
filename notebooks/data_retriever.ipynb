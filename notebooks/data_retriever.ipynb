{
 "cells": [
  {
   "cell_type": "markdown",
   "metadata": {},
   "source": [
    "# Boat Rental Data Retriever\n",
    "\n",
    "In this notebook, we have implemented a class named `DataRetriever` that facilitates data retrieval from the \"clickandboat\" website for various cities in France. Here is a breakdown of the components of this class and how to use it:\n",
    "\n",
    "### Class Structure\n",
    "\n",
    "1. **VALID_CITIES**: A list of valid cities for which data can be retrieved.\n",
    "2. **__init__()**: The initializer method where we set the city for which data needs to be retrieved, the start and end page numbers for data retrieval.\n",
    "3. **fetch_data()**: A method to fetch data from the website through API calls. It fetches data page by page and adds it to a data list.\n",
    "4. **to_dataframe()**: A method to convert the data list to a pandas DataFrame."
   ]
  },
  {
   "cell_type": "code",
   "execution_count": 7,
   "metadata": {},
   "outputs": [],
   "source": [
    "import requests\n",
    "import pandas as pd\n",
    "from time import sleep\n",
    "from tqdm import tqdm\n",
    "import os"
   ]
  },
  {
   "cell_type": "code",
   "execution_count": 8,
   "metadata": {},
   "outputs": [],
   "source": [
    "class DataRetriever:\n",
    "    \"\"\"\n",
    "    A class to retrieve boat rental data from the \"clickandboat\" website for various cities in France.\n",
    "    \n",
    "    Attributes:\n",
    "        VALID_CITIES (list): List of valid cities for data retrieval.\n",
    "    \"\"\"\n",
    "    \n",
    "    VALID_CITIES = [\"marseille\", \"cassis\", \"hyères\", \"cannes\", \"corse\", \"la-rochelle\"]\n",
    "\n",
    "    def __init__(self, city, start_page=1, end_page=1):\n",
    "        \"\"\"\n",
    "        The constructor for DataRetriever class.\n",
    "        \n",
    "        Parameters:\n",
    "            city (str): The city for which to retrieve data. Must be one of the valid cities listed in VALID_CITIES.\n",
    "            start_page (int, optional): The starting page number for data retrieval. Defaults to 1.\n",
    "            end_page (int, optional): The ending page number for data retrieval. Defaults to 30.\n",
    "        \n",
    "        Raises:\n",
    "            ValueError: If the provided city is not in the list of VALID_CITIES.\n",
    "        \"\"\"\n",
    "        if city not in self.VALID_CITIES:\n",
    "            raise ValueError(f\"Invalid city: {city}. Valid options are: {', '.join(self.VALID_CITIES)}\")\n",
    "        \n",
    "        self.data_list = []\n",
    "        self.base_url = f\"https://www.clickandboat.com/api/v3/search?url=/location-bateau/france/{city}&page={{}}&sentFrom=SSR\"\n",
    "        self.start_page = start_page\n",
    "        self.end_page = end_page\n",
    "\n",
    "    def fetch_data(self):\n",
    "        \"\"\"\n",
    "        Retrieves data from the API page by page and adds it to a data list.\n",
    "        \n",
    "        Raises:\n",
    "            Exception: If any error occurs during the data retrieval process.\n",
    "        \"\"\"\n",
    "        try:\n",
    "            for page in tqdm(range(self.start_page, self.end_page)): \n",
    "                url = self.base_url.format(page)\n",
    "                response = requests.get(url)\n",
    "\n",
    "                if response.status_code == 200:\n",
    "                    data = response.json()\n",
    "                    products = data['data']['products']\n",
    "                    self.data_list.extend(products)\n",
    "                else:\n",
    "                    print(f\"Failed to retrieve data for page {page}. Status code:\", response.status_code)\n",
    "                \n",
    "                sleep(3)\n",
    "        except Exception as e:\n",
    "            print(f\"An error occurred: {e}\")\n",
    "\n",
    "    def to_dataframe(self):\n",
    "        \"\"\"\n",
    "        Converts the data list to a pandas DataFrame.\n",
    "        \n",
    "        Returns:\n",
    "            pd.DataFrame: A pandas DataFrame containing the retrieved data.\n",
    "        \"\"\"\n",
    "        return pd.DataFrame(self.data_list)\n"
   ]
  },
  {
   "cell_type": "code",
   "execution_count": 9,
   "metadata": {},
   "outputs": [
    {
     "name": "stderr",
     "output_type": "stream",
     "text": [
      "  0%|          | 0/29 [00:00<?, ?it/s]"
     ]
    },
    {
     "name": "stderr",
     "output_type": "stream",
     "text": [
      "100%|██████████| 29/29 [01:58<00:00,  4.10s/it]\n"
     ]
    }
   ],
   "source": [
    "if __name__ == \"__main__\":\n",
    "    city = \"marseille\" # You can replace this with any other city from the list\n",
    "    start_page, end_page = 1, 30\n",
    "    retriever = DataRetriever(city, start_page, end_page)\n",
    "    retriever.fetch_data()\n",
    "    df = retriever.to_dataframe()\n",
    "    \n",
    "    # Create the directory if it does not exist\n",
    "    os.makedirs('../data/raw', exist_ok=True)\n",
    "    \n",
    "    # Save the dataframe to a CSV file in the data/raw directory\n",
    "    df.to_csv(f'../data/raw/{city}_data.csv', index=False)"
   ]
  },
  {
   "cell_type": "code",
   "execution_count": null,
   "metadata": {},
   "outputs": [],
   "source": []
  },
  {
   "cell_type": "markdown",
   "metadata": {},
   "source": [
    "### Save the dataframe to a CSV file in the data/raw directory"
   ]
  },
  {
   "cell_type": "code",
   "execution_count": 10,
   "metadata": {},
   "outputs": [],
   "source": [
    "os.makedirs('../data/raw', exist_ok=True)\n",
    "\n",
    "df.to_csv(f'../data/raw/{city}_data.csv', index=False)"
   ]
  }
 ],
 "metadata": {
  "kernelspec": {
   "display_name": "Python 3",
   "language": "python",
   "name": "python3"
  },
  "language_info": {
   "codemirror_mode": {
    "name": "ipython",
    "version": 3
   },
   "file_extension": ".py",
   "mimetype": "text/x-python",
   "name": "python",
   "nbconvert_exporter": "python",
   "pygments_lexer": "ipython3",
   "version": "3.8.2"
  },
  "orig_nbformat": 4
 },
 "nbformat": 4,
 "nbformat_minor": 2
}
